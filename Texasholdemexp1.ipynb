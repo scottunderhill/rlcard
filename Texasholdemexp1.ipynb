{
  "nbformat": 4,
  "nbformat_minor": 0,
  "metadata": {
    "colab": {
      "name": "Texasholdemexp1.ipynb",
      "provenance": [],
      "include_colab_link": true
    },
    "kernelspec": {
      "name": "python3",
      "display_name": "Python 3"
    }
  },
  "cells": [
    {
      "cell_type": "markdown",
      "metadata": {
        "id": "view-in-github",
        "colab_type": "text"
      },
      "source": [
        "<a href=\"https://colab.research.google.com/github/scottunderhill/rlcard/blob/master/Texasholdemexp1.ipynb\" target=\"_parent\"><img src=\"https://colab.research.google.com/assets/colab-badge.svg\" alt=\"Open In Colab\"/></a>"
      ]
    },
    {
      "cell_type": "markdown",
      "metadata": {
        "id": "lDKT6tiwXU3p",
        "colab_type": "text"
      },
      "source": [
        ""
      ]
    },
    {
      "cell_type": "markdown",
      "metadata": {
        "id": "7l3sNVr-XWGJ",
        "colab_type": "text"
      },
      "source": [
        "# Set up \n",
        "Lets set up RC cards for testing the environment. \n",
        "\n",
        "Cloning directly for this repo. Using the default setup command"
      ]
    },
    {
      "cell_type": "code",
      "metadata": {
        "id": "joxbMY1AVOqd",
        "colab_type": "code",
        "colab": {
          "base_uri": "https://localhost:8080/",
          "height": 706
        },
        "outputId": "7cd2493a-0012-4ba7-a463-052f4a4c81cc"
      },
      "source": [
        "!git clone https://github.com/datamllab/rlcard.git\n",
        "%cd rlcard\n",
        "!pip install -e .\n"
      ],
      "execution_count": 4,
      "outputs": [
        {
          "output_type": "stream",
          "text": [
            "fatal: destination path 'rlcard' already exists and is not an empty directory.\n",
            "/content/rlcard\n",
            "Obtaining file:///content/rlcard\n",
            "Requirement already satisfied: tensorflow<2.0,>=1.14 in /usr/local/lib/python3.6/dist-packages (from rlcard==0.1.6) (1.15.0)\n",
            "Requirement already satisfied: tensorflow_probability==0.7.0 in /usr/local/lib/python3.6/dist-packages (from rlcard==0.1.6) (0.7.0)\n",
            "Requirement already satisfied: dm-sonnet==1.35 in /usr/local/lib/python3.6/dist-packages (from rlcard==0.1.6) (1.35)\n",
            "Requirement already satisfied: numpy>=1.16.3 in /usr/local/lib/python3.6/dist-packages (from rlcard==0.1.6) (1.17.4)\n",
            "Requirement already satisfied: matplotlib>=3.0 in /usr/local/lib/python3.6/dist-packages (from rlcard==0.1.6) (3.1.2)\n",
            "Requirement already satisfied: protobuf>=3.6.1 in /usr/local/lib/python3.6/dist-packages (from tensorflow<2.0,>=1.14->rlcard==0.1.6) (3.10.0)\n",
            "Requirement already satisfied: keras-preprocessing>=1.0.5 in /usr/local/lib/python3.6/dist-packages (from tensorflow<2.0,>=1.14->rlcard==0.1.6) (1.1.0)\n",
            "Requirement already satisfied: tensorboard<1.16.0,>=1.15.0 in /usr/local/lib/python3.6/dist-packages (from tensorflow<2.0,>=1.14->rlcard==0.1.6) (1.15.0)\n",
            "Requirement already satisfied: tensorflow-estimator==1.15.1 in /usr/local/lib/python3.6/dist-packages (from tensorflow<2.0,>=1.14->rlcard==0.1.6) (1.15.1)\n",
            "Requirement already satisfied: six>=1.10.0 in /usr/local/lib/python3.6/dist-packages (from tensorflow<2.0,>=1.14->rlcard==0.1.6) (1.12.0)\n",
            "Requirement already satisfied: keras-applications>=1.0.8 in /usr/local/lib/python3.6/dist-packages (from tensorflow<2.0,>=1.14->rlcard==0.1.6) (1.0.8)\n",
            "Requirement already satisfied: grpcio>=1.8.6 in /usr/local/lib/python3.6/dist-packages (from tensorflow<2.0,>=1.14->rlcard==0.1.6) (1.15.0)\n",
            "Requirement already satisfied: wrapt>=1.11.1 in /usr/local/lib/python3.6/dist-packages (from tensorflow<2.0,>=1.14->rlcard==0.1.6) (1.11.2)\n",
            "Requirement already satisfied: opt-einsum>=2.3.2 in /usr/local/lib/python3.6/dist-packages (from tensorflow<2.0,>=1.14->rlcard==0.1.6) (3.1.0)\n",
            "Requirement already satisfied: wheel>=0.26 in /usr/local/lib/python3.6/dist-packages (from tensorflow<2.0,>=1.14->rlcard==0.1.6) (0.33.6)\n",
            "Requirement already satisfied: termcolor>=1.1.0 in /usr/local/lib/python3.6/dist-packages (from tensorflow<2.0,>=1.14->rlcard==0.1.6) (1.1.0)\n",
            "Requirement already satisfied: gast==0.2.2 in /usr/local/lib/python3.6/dist-packages (from tensorflow<2.0,>=1.14->rlcard==0.1.6) (0.2.2)\n",
            "Requirement already satisfied: absl-py>=0.7.0 in /usr/local/lib/python3.6/dist-packages (from tensorflow<2.0,>=1.14->rlcard==0.1.6) (0.8.1)\n",
            "Requirement already satisfied: astor>=0.6.0 in /usr/local/lib/python3.6/dist-packages (from tensorflow<2.0,>=1.14->rlcard==0.1.6) (0.8.1)\n",
            "Requirement already satisfied: google-pasta>=0.1.6 in /usr/local/lib/python3.6/dist-packages (from tensorflow<2.0,>=1.14->rlcard==0.1.6) (0.1.8)\n",
            "Requirement already satisfied: cloudpickle>=0.6.1 in /usr/local/lib/python3.6/dist-packages (from tensorflow_probability==0.7.0->rlcard==0.1.6) (1.2.2)\n",
            "Requirement already satisfied: decorator in /usr/local/lib/python3.6/dist-packages (from tensorflow_probability==0.7.0->rlcard==0.1.6) (4.4.1)\n",
            "Requirement already satisfied: semantic-version in /usr/local/lib/python3.6/dist-packages (from dm-sonnet==1.35->rlcard==0.1.6) (2.8.3)\n",
            "Requirement already satisfied: contextlib2 in /usr/local/lib/python3.6/dist-packages (from dm-sonnet==1.35->rlcard==0.1.6) (0.5.5)\n",
            "Requirement already satisfied: python-dateutil>=2.1 in /usr/local/lib/python3.6/dist-packages (from matplotlib>=3.0->rlcard==0.1.6) (2.6.1)\n",
            "Requirement already satisfied: kiwisolver>=1.0.1 in /usr/local/lib/python3.6/dist-packages (from matplotlib>=3.0->rlcard==0.1.6) (1.1.0)\n",
            "Requirement already satisfied: pyparsing!=2.0.4,!=2.1.2,!=2.1.6,>=2.0.1 in /usr/local/lib/python3.6/dist-packages (from matplotlib>=3.0->rlcard==0.1.6) (2.4.5)\n",
            "Requirement already satisfied: cycler>=0.10 in /usr/local/lib/python3.6/dist-packages (from matplotlib>=3.0->rlcard==0.1.6) (0.10.0)\n",
            "Requirement already satisfied: setuptools in /usr/local/lib/python3.6/dist-packages (from protobuf>=3.6.1->tensorflow<2.0,>=1.14->rlcard==0.1.6) (42.0.2)\n",
            "Requirement already satisfied: markdown>=2.6.8 in /usr/local/lib/python3.6/dist-packages (from tensorboard<1.16.0,>=1.15.0->tensorflow<2.0,>=1.14->rlcard==0.1.6) (3.1.1)\n",
            "Requirement already satisfied: werkzeug>=0.11.15 in /usr/local/lib/python3.6/dist-packages (from tensorboard<1.16.0,>=1.15.0->tensorflow<2.0,>=1.14->rlcard==0.1.6) (0.16.0)\n",
            "Requirement already satisfied: h5py in /usr/local/lib/python3.6/dist-packages (from keras-applications>=1.0.8->tensorflow<2.0,>=1.14->rlcard==0.1.6) (2.8.0)\n",
            "Installing collected packages: rlcard\n",
            "  Running setup.py develop for rlcard\n",
            "Successfully installed rlcard\n"
          ],
          "name": "stdout"
        }
      ]
    },
    {
      "cell_type": "markdown",
      "metadata": {
        "id": "Cdb_wcolX0Ze",
        "colab_type": "text"
      },
      "source": [
        "Lets perform a simple example test. This is directly frmo the repo"
      ]
    },
    {
      "cell_type": "code",
      "metadata": {
        "id": "YCJE6obRXTzR",
        "colab_type": "code",
        "colab": {
          "base_uri": "https://localhost:8080/",
          "height": 963
        },
        "outputId": "4d58493c-c445-4aa5-d157-bd9b50a1e631"
      },
      "source": [
        "\n",
        "import tensorflow as tf\n",
        "\n",
        "import rlcard\n",
        "from rlcard.agents.dqn_agent import DQNAgent\n",
        "from rlcard.agents.random_agent import RandomAgent\n",
        "from rlcard.utils.utils import set_global_seed\n",
        "from rlcard.utils.logger import Logger\n",
        "\n",
        "# Make environment\n",
        "env = rlcard.make('limit-holdem')\n",
        "eval_env = rlcard.make('limit-holdem')\n",
        "\n",
        "# Set the iterations numbers and how frequently we evaluate/save plot\n",
        "evaluate_every = 100\n",
        "save_plot_every = 1000\n",
        "evaluate_num = 10000\n",
        "episode_num = 1000000\n",
        "\n",
        "# Set the the number of steps for collecting normalization statistics\n",
        "# and intial memory size\n",
        "memory_init_size = 1000\n",
        "norm_step = 100\n",
        "\n",
        "# The paths for saving the logs and learning curves\n",
        "root_path = './experiments/limit_holdem_dqn_result/'\n",
        "log_path = root_path + 'log.txt'\n",
        "csv_path = root_path + 'performance.csv'\n",
        "figure_path = root_path + 'figures/'\n",
        "\n",
        "# Set a global seed\n",
        "set_global_seed(0)\n",
        "\n",
        "with tf.Session() as sess:\n",
        "    # Set agents\n",
        "    global_step = tf.Variable(0, name='global_step', trainable=False)\n",
        "    agent = DQNAgent(sess,\n",
        "                     scope='dqn',\n",
        "                     action_num=env.action_num,\n",
        "                     replay_memory_size=int(1e5),\n",
        "                     replay_memory_init_size=memory_init_size,\n",
        "                     norm_step=norm_step,\n",
        "                     state_shape=env.state_shape,\n",
        "                     mlp_layers=[512, 512])\n",
        "\n",
        "    random_agent = RandomAgent(action_num=eval_env.action_num)\n",
        "\n",
        "    sess.run(tf.global_variables_initializer())\n",
        "\n",
        "    env.set_agents([agent, random_agent])\n",
        "    eval_env.set_agents([agent, random_agent])\n",
        "\n",
        "    # Count the number of steps\n",
        "    step_counter = 0\n",
        "\n",
        "    # Init a Logger to plot the learning curve\n",
        "    logger = Logger(xlabel='timestep', ylabel='reward', legend='DQN on Limit Texas Holdem', log_path=log_path, csv_path=csv_path)\n",
        "\n",
        "    for episode in range(episode_num):\n",
        "\n",
        "        # Generate data from the environment\n",
        "        trajectories, _ = env.run(is_training=True)\n",
        "\n",
        "        # Feed transitions into agent memory, and train the agent\n",
        "        for ts in trajectories[0]:\n",
        "            agent.feed(ts)\n",
        "            step_counter += 1\n",
        "\n",
        "            # Train the agent\n",
        "            train_count = step_counter - (memory_init_size + norm_step)\n",
        "            if train_count > 0:\n",
        "                loss = agent.train()\n",
        "                print('\\rINFO - Step {}, loss: {}'.format(step_counter, loss), end='')\n",
        "\n",
        "        # Evaluate the performance. Play with random agents.\n",
        "        if episode % evaluate_every == 0:\n",
        "            reward = 0\n",
        "            for eval_episode in range(evaluate_num):\n",
        "                _, payoffs = eval_env.run(is_training=False)\n",
        "\n",
        "                reward += payoffs[0]\n",
        "\n",
        "            logger.log('\\n########## Evaluation ##########')\n",
        "            logger.log('Timestep: {} Average reward is {}'.format(env.timestep, float(reward)/evaluate_num))\n",
        "\n",
        "            # Add point to logger\n",
        "            logger.add_point(x=env.timestep, y=float(reward)/evaluate_num)\n",
        "\n",
        "        # Make plot\n",
        "        if episode % save_plot_every == 0 and episode > 0:\n",
        "            logger.make_plot(save_path=figure_path+str(episode)+'.png')\n",
        "\n",
        "    # Make the final plot\n",
        "    logger.make_plot(save_path=figure_path+str(episode)+'.png')"
      ],
      "execution_count": 0,
      "outputs": [
        {
          "output_type": "display_data",
          "data": {
            "text/html": [
              "<p style=\"color: red;\">\n",
              "The default version of TensorFlow in Colab will soon switch to TensorFlow 2.x.<br>\n",
              "We recommend you <a href=\"https://www.tensorflow.org/guide/migrate\" target=\"_blank\">upgrade</a> now \n",
              "or ensure your notebook will continue to use TensorFlow 1.x via the <code>%tensorflow_version 1.x</code> magic:\n",
              "<a href=\"https://colab.research.google.com/notebooks/tensorflow_version.ipynb\" target=\"_blank\">more info</a>.</p>\n"
            ],
            "text/plain": [
              "<IPython.core.display.HTML object>"
            ]
          },
          "metadata": {
            "tags": []
          }
        },
        {
          "output_type": "stream",
          "text": [
            "WARNING:tensorflow:From /usr/local/lib/python3.6/dist-packages/sonnet/python/modules/util.py:63: The name tf.GraphKeys is deprecated. Please use tf.compat.v1.GraphKeys instead.\n",
            "\n",
            "WARNING:tensorflow:\n",
            "The TensorFlow contrib module will not be included in TensorFlow 2.0.\n",
            "For more information, please see:\n",
            "  * https://github.com/tensorflow/community/blob/master/rfcs/20180907-contrib-sunset.md\n",
            "  * https://github.com/tensorflow/addons\n",
            "  * https://github.com/tensorflow/io (for I/O related ops)\n",
            "If you depend on functionality not listed there, please file an issue.\n",
            "\n",
            "WARNING:tensorflow:From /content/rlcard/rlcard/utils/utils.py:328: The name tf.set_random_seed is deprecated. Please use tf.compat.v1.set_random_seed instead.\n",
            "\n",
            "WARNING:tensorflow:From /content/rlcard/rlcard/agents/dqn_agent.py:292: The name tf.variable_scope is deprecated. Please use tf.compat.v1.variable_scope instead.\n",
            "\n",
            "WARNING:tensorflow:From /content/rlcard/rlcard/agents/dqn_agent.py:307: The name tf.placeholder is deprecated. Please use tf.compat.v1.placeholder instead.\n",
            "\n",
            "WARNING:tensorflow:From /usr/local/lib/python3.6/dist-packages/tensorflow_core/contrib/layers/python/layers/layers.py:1634: flatten (from tensorflow.python.layers.core) is deprecated and will be removed in a future version.\n",
            "Instructions for updating:\n",
            "Use keras.layers.flatten instead.\n",
            "WARNING:tensorflow:From /usr/local/lib/python3.6/dist-packages/tensorflow_core/python/layers/core.py:332: Layer.apply (from tensorflow.python.keras.engine.base_layer) is deprecated and will be removed in a future version.\n",
            "Instructions for updating:\n",
            "Please use `layer.__call__` method instead.\n",
            "WARNING:tensorflow:From /content/rlcard/rlcard/agents/dqn_agent.py:326: The name tf.squared_difference is deprecated. Please use tf.math.squared_difference instead.\n",
            "\n",
            "WARNING:tensorflow:From /content/rlcard/rlcard/agents/dqn_agent.py:296: The name tf.train.AdamOptimizer is deprecated. Please use tf.compat.v1.train.AdamOptimizer instead.\n",
            "\n",
            "WARNING:tensorflow:From /content/rlcard/rlcard/agents/dqn_agent.py:298: get_global_step (from tensorflow.contrib.framework.python.ops.variables) is deprecated and will be removed in a future version.\n",
            "Instructions for updating:\n",
            "Please switch to tf.train.get_global_step\n",
            "\n",
            "########## Evaluation ##########\n",
            "Timestep: 3 Average reward is -0.0619\n",
            "\n",
            "########## Evaluation ##########\n",
            "Timestep: 266 Average reward is 0.1746\n",
            "\n",
            "########## Evaluation ##########\n",
            "Timestep: 558 Average reward is 0.15795\n",
            "\n",
            "########## Evaluation ##########\n",
            "Timestep: 808 Average reward is 0.14085\n",
            "\n",
            "########## Evaluation ##########\n",
            "Timestep: 1136 Average reward is 0.153\n",
            "\n",
            "########## Evaluation ##########\n",
            "Timestep: 1424 Average reward is 0.1495\n",
            "\n",
            "########## Evaluation ##########\n",
            "Timestep: 1710 Average reward is 0.20325\n"
          ],
          "name": "stdout"
        }
      ]
    }
  ]
}