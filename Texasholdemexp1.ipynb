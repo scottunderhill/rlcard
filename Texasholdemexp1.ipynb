{
  "nbformat": 4,
  "nbformat_minor": 0,
  "metadata": {
    "colab": {
      "name": "Texasholdemexp1.ipynb",
      "provenance": [],
      "include_colab_link": true
    },
    "kernelspec": {
      "name": "python3",
      "display_name": "Python 3"
    }
  },
  "cells": [
    {
      "cell_type": "markdown",
      "metadata": {
        "id": "view-in-github",
        "colab_type": "text"
      },
      "source": [
        "<a href=\"https://colab.research.google.com/github/scottunderhill/rlcard/blob/master/Texasholdemexp1.ipynb\" target=\"_parent\"><img src=\"https://colab.research.google.com/assets/colab-badge.svg\" alt=\"Open In Colab\"/></a>"
      ]
    },
    {
      "cell_type": "markdown",
      "metadata": {
        "id": "lDKT6tiwXU3p",
        "colab_type": "text"
      },
      "source": [
        ""
      ]
    },
    {
      "cell_type": "markdown",
      "metadata": {
        "id": "7l3sNVr-XWGJ",
        "colab_type": "text"
      },
      "source": [
        "# Set up \n",
        "Lets set up RC cards for testing the environment. \n",
        "\n",
        "Cloning directly for this repo. Using the default setup command"
      ]
    },
    {
      "cell_type": "code",
      "metadata": {
        "id": "joxbMY1AVOqd",
        "colab_type": "code",
        "outputId": "7cc90be6-35e7-4af7-a3f4-2298a9b38be5",
        "colab": {
          "base_uri": "https://localhost:8080/"
        }
      },
      "source": [
        "%rm -rf rlcard\n",
        "!git clone https://github.com/scottunderhill/rlcard.git\n",
        "%cd rlcard\n",
        "!pip install -e .\n"
      ],
      "execution_count": 1,
      "outputs": [
        {
          "output_type": "stream",
          "text": [
            "Cloning into 'rlcard'...\n",
            "remote: Enumerating objects: 30, done.\u001b[K\n",
            "remote: Counting objects:   3% (1/30)\u001b[K\rremote: Counting objects:   6% (2/30)\u001b[K\rremote: Counting objects:  10% (3/30)\u001b[K\rremote: Counting objects:  13% (4/30)\u001b[K\rremote: Counting objects:  16% (5/30)\u001b[K\rremote: Counting objects:  20% (6/30)\u001b[K\rremote: Counting objects:  23% (7/30)\u001b[K\rremote: Counting objects:  26% (8/30)\u001b[K\rremote: Counting objects:  30% (9/30)\u001b[K\rremote: Counting objects:  33% (10/30)\u001b[K\rremote: Counting objects:  36% (11/30)\u001b[K\rremote: Counting objects:  40% (12/30)\u001b[K\rremote: Counting objects:  43% (13/30)\u001b[K\rremote: Counting objects:  46% (14/30)\u001b[K\rremote: Counting objects:  50% (15/30)\u001b[K\rremote: Counting objects:  53% (16/30)\u001b[K\rremote: Counting objects:  56% (17/30)\u001b[K\rremote: Counting objects:  60% (18/30)\u001b[K\rremote: Counting objects:  63% (19/30)\u001b[K\rremote: Counting objects:  66% (20/30)\u001b[K\rremote: Counting objects:  70% (21/30)\u001b[K\rremote: Counting objects:  73% (22/30)\u001b[K\rremote: Counting objects:  76% (23/30)\u001b[K\rremote: Counting objects:  80% (24/30)\u001b[K\rremote: Counting objects:  83% (25/30)\u001b[K\rremote: Counting objects:  86% (26/30)\u001b[K\rremote: Counting objects:  90% (27/30)\u001b[K\rremote: Counting objects:  93% (28/30)\u001b[K\rremote: Counting objects:  96% (29/30)\u001b[K\rremote: Counting objects: 100% (30/30)\u001b[K\rremote: Counting objects: 100% (30/30), done.\u001b[K\n",
            "remote: Compressing objects:   3% (1/30)\u001b[K\rremote: Compressing objects:   6% (2/30)\u001b[K\rremote: Compressing objects:  10% (3/30)\u001b[K\rremote: Compressing objects:  13% (4/30)\u001b[K\rremote: Compressing objects:  16% (5/30)\u001b[K\rremote: Compressing objects:  20% (6/30)\u001b[K\rremote: Compressing objects:  23% (7/30)\u001b[K\rremote: Compressing objects:  26% (8/30)\u001b[K\rremote: Compressing objects:  30% (9/30)\u001b[K\rremote: Compressing objects:  33% (10/30)\u001b[K\rremote: Compressing objects:  36% (11/30)\u001b[K\rremote: Compressing objects:  40% (12/30)\u001b[K\rremote: Compressing objects:  43% (13/30)\u001b[K\rremote: Compressing objects:  46% (14/30)\u001b[K\rremote: Compressing objects:  50% (15/30)\u001b[K\rremote: Compressing objects:  53% (16/30)\u001b[K\rremote: Compressing objects:  56% (17/30)\u001b[K\rremote: Compressing objects:  60% (18/30)\u001b[K\rremote: Compressing objects:  63% (19/30)\u001b[K\rremote: Compressing objects:  66% (20/30)\u001b[K\rremote: Compressing objects:  70% (21/30)\u001b[K\rremote: Compressing objects:  73% (22/30)\u001b[K\rremote: Compressing objects:  76% (23/30)\u001b[K\rremote: Compressing objects:  80% (24/30)\u001b[K\rremote: Compressing objects:  83% (25/30)\u001b[K\rremote: Compressing objects:  86% (26/30)\u001b[K\rremote: Compressing objects:  90% (27/30)\u001b[K\rremote: Compressing objects:  93% (28/30)\u001b[K\rremote: Compressing objects:  96% (29/30)\u001b[K\rremote: Compressing objects: 100% (30/30)\u001b[K\rremote: Compressing objects: 100% (30/30), done.\u001b[K\n",
            "Receiving objects:   0% (1/4339)   \rReceiving objects:   1% (44/4339)   \rReceiving objects:   2% (87/4339)   \rReceiving objects:   3% (131/4339)   \rReceiving objects:   4% (174/4339)   \rReceiving objects:   5% (217/4339)   \rReceiving objects:   6% (261/4339)   \rReceiving objects:   7% (304/4339)   \rReceiving objects:   8% (348/4339)   \rReceiving objects:   9% (391/4339)   \rReceiving objects:  10% (434/4339)   \rReceiving objects:  11% (478/4339)   \rReceiving objects:  12% (521/4339)   \rReceiving objects:  13% (565/4339)   \rReceiving objects:  14% (608/4339)   \rReceiving objects:  15% (651/4339)   \rReceiving objects:  16% (695/4339)   \rReceiving objects:  17% (738/4339)   \rReceiving objects:  18% (782/4339)   \rReceiving objects:  19% (825/4339)   \rReceiving objects:  20% (868/4339)   \rReceiving objects:  21% (912/4339)   \rReceiving objects:  22% (955/4339)   \rReceiving objects:  23% (998/4339)   \rReceiving objects:  24% (1042/4339)   \rReceiving objects:  25% (1085/4339)   \rReceiving objects:  26% (1129/4339)   \rReceiving objects:  27% (1172/4339)   \rReceiving objects:  28% (1215/4339)   \rReceiving objects:  29% (1259/4339)   \rReceiving objects:  30% (1302/4339)   \rReceiving objects:  31% (1346/4339)   \rReceiving objects:  32% (1389/4339)   \rReceiving objects:  33% (1432/4339)   \rReceiving objects:  34% (1476/4339)   \rReceiving objects:  35% (1519/4339)   \rReceiving objects:  36% (1563/4339)   \rReceiving objects:  37% (1606/4339)   \rReceiving objects:  38% (1649/4339)   \rReceiving objects:  39% (1693/4339)   \rReceiving objects:  40% (1736/4339)   \rReceiving objects:  41% (1779/4339)   \rReceiving objects:  42% (1823/4339)   \rReceiving objects:  43% (1866/4339)   \rReceiving objects:  44% (1910/4339)   \rReceiving objects:  45% (1953/4339)   \rReceiving objects:  46% (1996/4339)   \rReceiving objects:  47% (2040/4339)   \rReceiving objects:  48% (2083/4339)   \rReceiving objects:  49% (2127/4339)   \rReceiving objects:  50% (2170/4339)   \rReceiving objects:  51% (2213/4339)   \rReceiving objects:  52% (2257/4339)   \rReceiving objects:  53% (2300/4339)   \rReceiving objects:  54% (2344/4339)   \rReceiving objects:  55% (2387/4339)   \rReceiving objects:  56% (2430/4339)   \rReceiving objects:  57% (2474/4339)   \rReceiving objects:  58% (2517/4339)   \rReceiving objects:  59% (2561/4339)   \rReceiving objects:  60% (2604/4339)   \rReceiving objects:  61% (2647/4339)   \rReceiving objects:  62% (2691/4339)   \rReceiving objects:  63% (2734/4339)   \rReceiving objects:  64% (2777/4339)   \rReceiving objects:  65% (2821/4339)   \rReceiving objects:  66% (2864/4339)   \rReceiving objects:  67% (2908/4339)   \rReceiving objects:  68% (2951/4339)   \rReceiving objects:  69% (2994/4339)   \rReceiving objects:  70% (3038/4339)   \rReceiving objects:  71% (3081/4339)   \rReceiving objects:  72% (3125/4339)   \rReceiving objects:  73% (3168/4339)   \rReceiving objects:  74% (3211/4339)   \rReceiving objects:  75% (3255/4339)   \rReceiving objects:  76% (3298/4339)   \rReceiving objects:  77% (3342/4339)   \rReceiving objects:  78% (3385/4339)   \rReceiving objects:  79% (3428/4339)   \rReceiving objects:  80% (3472/4339)   \rReceiving objects:  81% (3515/4339)   \rReceiving objects:  82% (3558/4339)   \rReceiving objects:  83% (3602/4339)   \rReceiving objects:  84% (3645/4339)   \rReceiving objects:  85% (3689/4339)   \rReceiving objects:  86% (3732/4339)   \rReceiving objects:  87% (3775/4339)   \rReceiving objects:  88% (3819/4339)   \rReceiving objects:  89% (3862/4339)   \rReceiving objects:  90% (3906/4339)   \rReceiving objects:  91% (3949/4339)   \rReceiving objects:  92% (3992/4339)   \rReceiving objects:  93% (4036/4339)   \rremote: Total 4339 (delta 20), reused 0 (delta 0), pack-reused 4309\u001b[K\n",
            "Receiving objects:  94% (4079/4339)   \rReceiving objects:  95% (4123/4339)   \rReceiving objects:  96% (4166/4339)   \rReceiving objects:  97% (4209/4339)   \rReceiving objects:  98% (4253/4339)   \rReceiving objects:  99% (4296/4339)   \rReceiving objects: 100% (4339/4339)   \rReceiving objects: 100% (4339/4339), 3.94 MiB | 9.69 MiB/s, done.\n",
            "Resolving deltas:   0% (0/2934)   \rResolving deltas:   1% (32/2934)   \rResolving deltas:   4% (118/2934)   \rResolving deltas:   5% (176/2934)   \rResolving deltas:   6% (177/2934)   \rResolving deltas:   7% (206/2934)   \rResolving deltas:   8% (245/2934)   \rResolving deltas:   9% (277/2934)   \rResolving deltas:  10% (310/2934)   \rResolving deltas:  11% (324/2934)   \rResolving deltas:  12% (355/2934)   \rResolving deltas:  13% (382/2934)   \rResolving deltas:  14% (426/2934)   \rResolving deltas:  15% (444/2934)   \rResolving deltas:  16% (474/2934)   \rResolving deltas:  17% (509/2934)   \rResolving deltas:  18% (547/2934)   \rResolving deltas:  19% (559/2934)   \rResolving deltas:  20% (589/2934)   \rResolving deltas:  21% (642/2934)   \rResolving deltas:  22% (668/2934)   \rResolving deltas:  23% (675/2934)   \rResolving deltas:  24% (708/2934)   \rResolving deltas:  25% (739/2934)   \rResolving deltas:  26% (767/2934)   \rResolving deltas:  28% (823/2934)   \rResolving deltas:  29% (851/2934)   \rResolving deltas:  31% (916/2934)   \rResolving deltas:  32% (943/2934)   \rResolving deltas:  33% (976/2934)   \rResolving deltas:  35% (1050/2934)   \rResolving deltas:  36% (1065/2934)   \rResolving deltas:  37% (1104/2934)   \rResolving deltas:  38% (1116/2934)   \rResolving deltas:  39% (1150/2934)   \rResolving deltas:  40% (1184/2934)   \rResolving deltas:  41% (1208/2934)   \rResolving deltas:  42% (1235/2934)   \rResolving deltas:  43% (1270/2934)   \rResolving deltas:  45% (1336/2934)   \rResolving deltas:  46% (1352/2934)   \rResolving deltas:  47% (1385/2934)   \rResolving deltas:  48% (1412/2934)   \rResolving deltas:  49% (1445/2934)   \rResolving deltas:  50% (1475/2934)   \rResolving deltas:  51% (1504/2934)   \rResolving deltas:  52% (1527/2934)   \rResolving deltas:  53% (1562/2934)   \rResolving deltas:  54% (1591/2934)   \rResolving deltas:  55% (1614/2934)   \rResolving deltas:  56% (1665/2934)   \rResolving deltas:  57% (1673/2934)   \rResolving deltas:  58% (1704/2934)   \rResolving deltas:  59% (1733/2934)   \rResolving deltas:  60% (1761/2934)   \rResolving deltas:  61% (1790/2934)   \rResolving deltas:  63% (1867/2934)   \rResolving deltas:  64% (1878/2934)   \rResolving deltas:  65% (1935/2934)   \rResolving deltas:  66% (1937/2934)   \rResolving deltas:  67% (1975/2934)   \rResolving deltas:  69% (2029/2934)   \rResolving deltas:  70% (2065/2934)   \rResolving deltas:  71% (2105/2934)   \rResolving deltas:  72% (2118/2934)   \rResolving deltas:  73% (2148/2934)   \rResolving deltas:  74% (2178/2934)   \rResolving deltas:  75% (2214/2934)   \rResolving deltas:  76% (2232/2934)   \rResolving deltas:  77% (2260/2934)   \rResolving deltas:  78% (2291/2934)   \rResolving deltas:  79% (2321/2934)   \rResolving deltas:  80% (2349/2934)   \rResolving deltas:  81% (2387/2934)   \rResolving deltas:  82% (2412/2934)   \rResolving deltas:  83% (2437/2934)   \rResolving deltas:  84% (2466/2934)   \rResolving deltas:  85% (2497/2934)   \rResolving deltas:  86% (2527/2934)   \rResolving deltas:  88% (2582/2934)   \rResolving deltas:  89% (2634/2934)   \rResolving deltas:  90% (2650/2934)   \rResolving deltas:  91% (2678/2934)   \rResolving deltas:  92% (2703/2934)   \rResolving deltas:  93% (2729/2934)   \rResolving deltas:  94% (2761/2934)   \rResolving deltas:  95% (2788/2934)   \rResolving deltas:  96% (2817/2934)   \rResolving deltas:  97% (2850/2934)   \rResolving deltas:  98% (2877/2934)   \rResolving deltas:  99% (2912/2934)   \rResolving deltas: 100% (2934/2934)   \rResolving deltas: 100% (2934/2934), done.\n",
            "/content/rlcard\n",
            "Obtaining file:///content/rlcard\n",
            "Requirement already satisfied: tensorflow<2.0,>=1.14 in /usr/local/lib/python3.6/dist-packages (from rlcard==0.1.6) (1.15.0)\n",
            "Requirement already satisfied: tensorflow_probability==0.7.0 in /usr/local/lib/python3.6/dist-packages (from rlcard==0.1.6) (0.7.0)\n",
            "Requirement already satisfied: dm-sonnet==1.35 in /usr/local/lib/python3.6/dist-packages (from rlcard==0.1.6) (1.35)\n",
            "Requirement already satisfied: numpy>=1.16.3 in /usr/local/lib/python3.6/dist-packages (from rlcard==0.1.6) (1.17.4)\n",
            "Requirement already satisfied: matplotlib>=3.0 in /usr/local/lib/python3.6/dist-packages (from rlcard==0.1.6) (3.1.2)\n",
            "Requirement already satisfied: protobuf>=3.6.1 in /usr/local/lib/python3.6/dist-packages (from tensorflow<2.0,>=1.14->rlcard==0.1.6) (3.10.0)\n",
            "Requirement already satisfied: six>=1.10.0 in /usr/local/lib/python3.6/dist-packages (from tensorflow<2.0,>=1.14->rlcard==0.1.6) (1.12.0)\n",
            "Requirement already satisfied: absl-py>=0.7.0 in /usr/local/lib/python3.6/dist-packages (from tensorflow<2.0,>=1.14->rlcard==0.1.6) (0.8.1)\n",
            "Requirement already satisfied: keras-preprocessing>=1.0.5 in /usr/local/lib/python3.6/dist-packages (from tensorflow<2.0,>=1.14->rlcard==0.1.6) (1.1.0)\n",
            "Requirement already satisfied: google-pasta>=0.1.6 in /usr/local/lib/python3.6/dist-packages (from tensorflow<2.0,>=1.14->rlcard==0.1.6) (0.1.8)\n",
            "Requirement already satisfied: opt-einsum>=2.3.2 in /usr/local/lib/python3.6/dist-packages (from tensorflow<2.0,>=1.14->rlcard==0.1.6) (3.1.0)\n",
            "Requirement already satisfied: termcolor>=1.1.0 in /usr/local/lib/python3.6/dist-packages (from tensorflow<2.0,>=1.14->rlcard==0.1.6) (1.1.0)\n",
            "Requirement already satisfied: astor>=0.6.0 in /usr/local/lib/python3.6/dist-packages (from tensorflow<2.0,>=1.14->rlcard==0.1.6) (0.8.1)\n",
            "Requirement already satisfied: wheel>=0.26 in /usr/local/lib/python3.6/dist-packages (from tensorflow<2.0,>=1.14->rlcard==0.1.6) (0.33.6)\n",
            "Requirement already satisfied: gast==0.2.2 in /usr/local/lib/python3.6/dist-packages (from tensorflow<2.0,>=1.14->rlcard==0.1.6) (0.2.2)\n",
            "Requirement already satisfied: tensorboard<1.16.0,>=1.15.0 in /usr/local/lib/python3.6/dist-packages (from tensorflow<2.0,>=1.14->rlcard==0.1.6) (1.15.0)\n",
            "Requirement already satisfied: tensorflow-estimator==1.15.1 in /usr/local/lib/python3.6/dist-packages (from tensorflow<2.0,>=1.14->rlcard==0.1.6) (1.15.1)\n",
            "Requirement already satisfied: wrapt>=1.11.1 in /usr/local/lib/python3.6/dist-packages (from tensorflow<2.0,>=1.14->rlcard==0.1.6) (1.11.2)\n",
            "Requirement already satisfied: grpcio>=1.8.6 in /usr/local/lib/python3.6/dist-packages (from tensorflow<2.0,>=1.14->rlcard==0.1.6) (1.15.0)\n",
            "Requirement already satisfied: keras-applications>=1.0.8 in /usr/local/lib/python3.6/dist-packages (from tensorflow<2.0,>=1.14->rlcard==0.1.6) (1.0.8)\n",
            "Requirement already satisfied: decorator in /usr/local/lib/python3.6/dist-packages (from tensorflow_probability==0.7.0->rlcard==0.1.6) (4.4.1)\n",
            "Requirement already satisfied: cloudpickle>=0.6.1 in /usr/local/lib/python3.6/dist-packages (from tensorflow_probability==0.7.0->rlcard==0.1.6) (1.2.2)\n",
            "Requirement already satisfied: semantic-version in /usr/local/lib/python3.6/dist-packages (from dm-sonnet==1.35->rlcard==0.1.6) (2.8.3)\n",
            "Requirement already satisfied: contextlib2 in /usr/local/lib/python3.6/dist-packages (from dm-sonnet==1.35->rlcard==0.1.6) (0.5.5)\n",
            "Requirement already satisfied: kiwisolver>=1.0.1 in /usr/local/lib/python3.6/dist-packages (from matplotlib>=3.0->rlcard==0.1.6) (1.1.0)\n",
            "Requirement already satisfied: python-dateutil>=2.1 in /usr/local/lib/python3.6/dist-packages (from matplotlib>=3.0->rlcard==0.1.6) (2.6.1)\n",
            "Requirement already satisfied: pyparsing!=2.0.4,!=2.1.2,!=2.1.6,>=2.0.1 in /usr/local/lib/python3.6/dist-packages (from matplotlib>=3.0->rlcard==0.1.6) (2.4.5)\n",
            "Requirement already satisfied: cycler>=0.10 in /usr/local/lib/python3.6/dist-packages (from matplotlib>=3.0->rlcard==0.1.6) (0.10.0)\n",
            "Requirement already satisfied: setuptools in /usr/local/lib/python3.6/dist-packages (from protobuf>=3.6.1->tensorflow<2.0,>=1.14->rlcard==0.1.6) (42.0.2)\n",
            "Requirement already satisfied: markdown>=2.6.8 in /usr/local/lib/python3.6/dist-packages (from tensorboard<1.16.0,>=1.15.0->tensorflow<2.0,>=1.14->rlcard==0.1.6) (3.1.1)\n",
            "Requirement already satisfied: werkzeug>=0.11.15 in /usr/local/lib/python3.6/dist-packages (from tensorboard<1.16.0,>=1.15.0->tensorflow<2.0,>=1.14->rlcard==0.1.6) (0.16.0)\n",
            "Requirement already satisfied: h5py in /usr/local/lib/python3.6/dist-packages (from keras-applications>=1.0.8->tensorflow<2.0,>=1.14->rlcard==0.1.6) (2.8.0)\n",
            "Installing collected packages: rlcard\n",
            "  Found existing installation: rlcard 0.1.6\n",
            "    Can't uninstall 'rlcard'. No files were found to uninstall.\n",
            "  Running setup.py develop for rlcard\n",
            "Successfully installed rlcard\n"
          ],
          "name": "stdout"
        }
      ]
    },
    {
      "cell_type": "markdown",
      "metadata": {
        "id": "Cdb_wcolX0Ze",
        "colab_type": "text"
      },
      "source": [
        "Lets perform a simple example test. This is directly from the repo. It has additional comments, for the point of reviewing the environment\n",
        "\n",
        "About the environment state. A vector of self.state_shape=[72]\n",
        "\n",
        "This takes an interesting approach. They use a deck of 52 cards. and encode the \"Community\" or \"Public\" Cards with the \"hand\" cards using a 52 card encoding. \n",
        "\n",
        "Comment: I am very supprised about this, as the \"hand\" cards should have a lot more value.\n",
        "\n",
        "0 - 52 : Hand + Community card encoding as one hot vector\n",
        "52 -72 : Raise number ... I guess a max of 20 raises? Still need to get this concept \n"
      ]
    },
    {
      "cell_type": "code",
      "metadata": {
        "id": "YCJE6obRXTzR",
        "colab_type": "code",
        "outputId": "360aec91-adb7-47c9-ec98-acd0d38ac695",
        "colab": {
          "base_uri": "https://localhost:8080/"
        }
      },
      "source": [
        "\n",
        "import tensorflow as tf\n",
        "\n",
        "import rlcard\n",
        "from rlcard.agents.dqn_agent import DQNAgent\n",
        "from rlcard.agents.random_agent import RandomAgent\n",
        "from rlcard.utils.utils import set_global_seed\n",
        "from rlcard.utils.logger import Logger\n",
        "\n",
        "# Make environment\n",
        "env = rlcard.make('limit-holdem2')\n",
        "eval_env = rlcard.make('limit-holdem2')\n",
        "\n",
        "# Set the iterations numbers and how frequently we evaluate/save plot\n",
        "evaluate_every = 100\n",
        "save_plot_every = 1000\n",
        "evaluate_num = 10000\n",
        "episode_num = 1000000\n",
        "\n",
        "# Set the the number of steps for collecting normalization statistics\n",
        "# and intial memory size\n",
        "memory_init_size = 1000\n",
        "norm_step = 100\n",
        "\n",
        "# The paths for saving the logs and learning curves\n",
        "root_path = './experiments/limit_holdem_dqn_result/'\n",
        "log_path = root_path + 'log.txt'\n",
        "csv_path = root_path + 'performance.csv'\n",
        "figure_path = root_path + 'figures/'\n",
        "\n",
        "# Set a global seed\n",
        "set_global_seed(0)\n",
        "\n",
        "with tf.Session() as sess:\n",
        "    # Set agents\n",
        "    global_step = tf.Variable(0, name='global_step', trainable=False)\n",
        "    agent = DQNAgent(sess,\n",
        "                     scope='dqn',\n",
        "                     action_num=env.action_num,\n",
        "                     replay_memory_size=int(1e5),\n",
        "                     replay_memory_init_size=memory_init_size,\n",
        "                     norm_step=norm_step,\n",
        "                     state_shape=env.state_shape,\n",
        "                     mlp_layers=[512, 512])\n",
        "\n",
        "    random_agent = RandomAgent(action_num=eval_env.action_num)\n",
        "\n",
        "    sess.run(tf.global_variables_initializer())\n",
        "\n",
        "    env.set_agents([agent, random_agent])\n",
        "    eval_env.set_agents([agent, random_agent])\n",
        "\n",
        "    # Count the number of steps\n",
        "    step_counter = 0\n",
        "\n",
        "    # Init a Logger to plot the learning curve\n",
        "    logger = Logger(xlabel='timestep', ylabel='reward', legend='DQN on Limit Texas Holdem', log_path=log_path, csv_path=csv_path)\n",
        "\n",
        "    for episode in range(episode_num):\n",
        "\n",
        "        # Generate data from the environment\n",
        "        trajectories, _ = env.run(is_training=True)\n",
        "\n",
        "        # Feed transitions into agent memory, and train the agent\n",
        "        for ts in trajectories[0]:\n",
        "            agent.feed(ts)\n",
        "            step_counter += 1\n",
        "\n",
        "            # Train the agent\n",
        "            train_count = step_counter - (memory_init_size + norm_step)\n",
        "            if train_count > 0:\n",
        "                loss = agent.train()\n",
        "                print('\\rINFO - Step {}, loss: {}'.format(step_counter, loss), end='')\n",
        "\n",
        "        # Evaluate the performance. Play with random agents.\n",
        "        if episode % evaluate_every == 0:\n",
        "            reward = 0\n",
        "            for eval_episode in range(evaluate_num):\n",
        "                _, payoffs = eval_env.run(is_training=False)\n",
        "\n",
        "                reward += payoffs[0]\n",
        "\n",
        "            logger.log('\\n########## Evaluation ##########')\n",
        "            logger.log('Timestep: {} Average reward is {}'.format(env.timestep, float(reward)/evaluate_num))\n",
        "\n",
        "            # Add point to logger\n",
        "            logger.add_point(x=env.timestep, y=float(reward)/evaluate_num)\n",
        "\n",
        "        # Make plot\n",
        "        if episode % save_plot_every == 0 and episode > 0:\n",
        "            logger.make_plot(save_path=figure_path+str(episode)+'.png')\n",
        "\n",
        "    # Make the final plot\n",
        "    logger.make_plot(save_path=figure_path+str(episode)+'.png')"
      ],
      "execution_count": 0,
      "outputs": [
        {
          "output_type": "display_data",
          "data": {
            "text/html": [
              "<p style=\"color: red;\">\n",
              "The default version of TensorFlow in Colab will soon switch to TensorFlow 2.x.<br>\n",
              "We recommend you <a href=\"https://www.tensorflow.org/guide/migrate\" target=\"_blank\">upgrade</a> now \n",
              "or ensure your notebook will continue to use TensorFlow 1.x via the <code>%tensorflow_version 1.x</code> magic:\n",
              "<a href=\"https://colab.research.google.com/notebooks/tensorflow_version.ipynb\" target=\"_blank\">more info</a>.</p>\n"
            ],
            "text/plain": [
              "<IPython.core.display.HTML object>"
            ]
          },
          "metadata": {
            "tags": []
          }
        },
        {
          "output_type": "stream",
          "text": [
            "WARNING:tensorflow:From /usr/local/lib/python3.6/dist-packages/sonnet/python/modules/util.py:63: The name tf.GraphKeys is deprecated. Please use tf.compat.v1.GraphKeys instead.\n",
            "\n",
            "WARNING:tensorflow:\n",
            "The TensorFlow contrib module will not be included in TensorFlow 2.0.\n",
            "For more information, please see:\n",
            "  * https://github.com/tensorflow/community/blob/master/rfcs/20180907-contrib-sunset.md\n",
            "  * https://github.com/tensorflow/addons\n",
            "  * https://github.com/tensorflow/io (for I/O related ops)\n",
            "If you depend on functionality not listed there, please file an issue.\n",
            "\n",
            "WARNING:tensorflow:From /content/rlcard/rlcard/utils/utils.py:328: The name tf.set_random_seed is deprecated. Please use tf.compat.v1.set_random_seed instead.\n",
            "\n",
            "WARNING:tensorflow:From /content/rlcard/rlcard/agents/dqn_agent.py:292: The name tf.variable_scope is deprecated. Please use tf.compat.v1.variable_scope instead.\n",
            "\n",
            "WARNING:tensorflow:From /content/rlcard/rlcard/agents/dqn_agent.py:307: The name tf.placeholder is deprecated. Please use tf.compat.v1.placeholder instead.\n",
            "\n",
            "WARNING:tensorflow:From /usr/local/lib/python3.6/dist-packages/tensorflow_core/contrib/layers/python/layers/layers.py:1634: flatten (from tensorflow.python.layers.core) is deprecated and will be removed in a future version.\n",
            "Instructions for updating:\n",
            "Use keras.layers.flatten instead.\n",
            "WARNING:tensorflow:From /usr/local/lib/python3.6/dist-packages/tensorflow_core/python/layers/core.py:332: Layer.apply (from tensorflow.python.keras.engine.base_layer) is deprecated and will be removed in a future version.\n",
            "Instructions for updating:\n",
            "Please use `layer.__call__` method instead.\n",
            "WARNING:tensorflow:From /content/rlcard/rlcard/agents/dqn_agent.py:326: The name tf.squared_difference is deprecated. Please use tf.math.squared_difference instead.\n",
            "\n",
            "WARNING:tensorflow:From /content/rlcard/rlcard/agents/dqn_agent.py:296: The name tf.train.AdamOptimizer is deprecated. Please use tf.compat.v1.train.AdamOptimizer instead.\n",
            "\n",
            "WARNING:tensorflow:From /content/rlcard/rlcard/agents/dqn_agent.py:298: get_global_step (from tensorflow.contrib.framework.python.ops.variables) is deprecated and will be removed in a future version.\n",
            "Instructions for updating:\n",
            "Please switch to tf.train.get_global_step\n",
            "\n",
            "########## Evaluation ##########\n",
            "Timestep: 3 Average reward is -0.1775\n",
            "\n",
            "########## Evaluation ##########\n",
            "Timestep: 312 Average reward is 0.0192\n",
            "\n",
            "########## Evaluation ##########\n",
            "Timestep: 632 Average reward is 0.0146\n",
            "\n",
            "########## Evaluation ##########\n",
            "Timestep: 928 Average reward is -0.0167\n",
            "\n",
            "########## Evaluation ##########\n",
            "Timestep: 1237 Average reward is 0.0147\n"
          ],
          "name": "stdout"
        }
      ]
    }
  ]
}